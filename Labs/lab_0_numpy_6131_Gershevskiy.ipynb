{
 "cells": [
  {
   "cell_type": "markdown",
   "metadata": {
    "collapsed": true,
    "pycharm": {
     "name": "#%% md\n"
    }
   },
   "source": [
    "# Лабораторная работа №0 (Numpy)\n",
    "\n",
    "Выполнил: Гершевский Егор, гр. 6131-010402D"
   ]
  },
  {
   "cell_type": "markdown",
   "metadata": {},
   "source": [
    "0 Импортируем библиотеку для выполнения лабораторной работы."
   ]
  },
  {
   "cell_type": "code",
   "execution_count": 1,
   "metadata": {
    "pycharm": {
     "name": "#%%\n"
    }
   },
   "outputs": [
    {
     "data": {
      "text/plain": [
       "'1.19.5'"
      ]
     },
     "execution_count": 1,
     "metadata": {},
     "output_type": "execute_result"
    }
   ],
   "source": [
    "import numpy as np\n",
    "\n",
    "np.__version__"
   ]
  },
  {
   "cell_type": "markdown",
   "metadata": {
    "pycharm": {
     "name": "#%% md\n"
    }
   },
   "source": [
    "1 Взять из документации по numpy 12 любых функций / методов / операторов и продемонстрировать их работу. Для каждой функции добавить комментарий."
   ]
  },
  {
   "cell_type": "code",
   "execution_count": 9,
   "metadata": {},
   "outputs": [
    {
     "data": {
      "text/plain": [
       "array([[1., 2., 3.],\n",
       "       [4., 5., 6.],\n",
       "       [7., 8., 9.]])"
      ]
     },
     "execution_count": 9,
     "metadata": {},
     "output_type": "execute_result"
    }
   ],
   "source": [
    "#1.1 Creating array\n",
    "a = np.array([(1,2,3), (4,5,6), (7,8,9)], dtype=float)\n",
    "a"
   ]
  },
  {
   "cell_type": "code",
   "execution_count": 8,
   "metadata": {},
   "outputs": [
    {
     "data": {
      "text/plain": [
       "array([[0.05947856, 0.31434455, 0.48238684],\n",
       "       [0.93223594, 0.25429215, 0.44847538],\n",
       "       [0.25316367, 0.64335795, 0.79879268]])"
      ]
     },
     "execution_count": 8,
     "metadata": {},
     "output_type": "execute_result"
    }
   ],
   "source": [
    "#1.2 Creating random array\n",
    "b = np.random.random((3,3))\n",
    "b"
   ]
  },
  {
   "cell_type": "code",
   "execution_count": 10,
   "metadata": {},
   "outputs": [
    {
     "data": {
      "text/plain": [
       "4.186527732706276"
      ]
     },
     "execution_count": 10,
     "metadata": {},
     "output_type": "execute_result"
    }
   ],
   "source": [
    "#1.3 Array-wise sum\n",
    "b.sum()"
   ]
  },
  {
   "cell_type": "code",
   "execution_count": 13,
   "metadata": {},
   "outputs": [
    {
     "data": {
      "text/plain": [
       "0.05947856317173528"
      ]
     },
     "execution_count": 13,
     "metadata": {},
     "output_type": "execute_result"
    }
   ],
   "source": [
    "#1.4 Array-wise minimum value\n",
    "b.min()"
   ]
  },
  {
   "cell_type": "code",
   "execution_count": 18,
   "metadata": {},
   "outputs": [
    {
     "data": {
      "text/plain": [
       "array([0.93223594, 0.64335795, 0.79879268])"
      ]
     },
     "execution_count": 18,
     "metadata": {},
     "output_type": "execute_result"
    }
   ],
   "source": [
    "#1.5 Maximum value of an array rows\n",
    "b.max(axis=0)"
   ]
  },
  {
   "cell_type": "code",
   "execution_count": 17,
   "metadata": {},
   "outputs": [
    {
     "data": {
      "text/plain": [
       "0.4651697480784751"
      ]
     },
     "execution_count": 17,
     "metadata": {},
     "output_type": "execute_result"
    }
   ],
   "source": [
    "#1.6 Mean\n",
    "b.mean()"
   ]
  },
  {
   "cell_type": "code",
   "execution_count": 19,
   "metadata": {},
   "outputs": [
    {
     "data": {
      "text/plain": [
       "array([0.05947856, 0.31434455, 0.48238684, 0.93223594, 0.25429215,\n",
       "       0.44847538, 0.25316367, 0.64335795, 0.79879268])"
      ]
     },
     "execution_count": 19,
     "metadata": {},
     "output_type": "execute_result"
    }
   ],
   "source": [
    "#1.7 Flatten the array\n",
    "b.ravel()"
   ]
  },
  {
   "cell_type": "code",
   "execution_count": 20,
   "metadata": {},
   "outputs": [
    {
     "data": {
      "text/plain": [
       "array([0.05947856, 0.25316367, 0.25429215, 0.31434455, 0.44847538,\n",
       "       0.48238684, 0.64335795, 0.79879268, 0.93223594])"
      ]
     },
     "execution_count": 20,
     "metadata": {},
     "output_type": "execute_result"
    }
   ],
   "source": [
    "#1.8 Return sorted unique values\n",
    "np.unique(b)"
   ]
  },
  {
   "cell_type": "code",
   "execution_count": 21,
   "metadata": {},
   "outputs": [
    {
     "data": {
      "text/plain": [
       "[[0.05947856317173528, 0.3143445464310548, 0.4823868426911694],\n",
       " [0.9322359414008041, 0.25429215260984384, 0.4484753816688779],\n",
       " [0.2531636738521522, 0.6433579503918917, 0.7987926804887464]]"
      ]
     },
     "execution_count": 21,
     "metadata": {},
     "output_type": "execute_result"
    }
   ],
   "source": [
    "#1.9 Convert 'b' to a Python list\n",
    "b.tolist()"
   ]
  },
  {
   "cell_type": "code",
   "execution_count": 22,
   "metadata": {},
   "outputs": [
    {
     "name": "stdout",
     "output_type": "stream",
     "text": [
      " eye(N, M=None, k=0, dtype=<class 'float'>, order='C')\n",
      "\n",
      "Return a 2-D array with ones on the diagonal and zeros elsewhere.\n",
      "\n",
      "Parameters\n",
      "----------\n",
      "N : int\n",
      "  Number of rows in the output.\n",
      "M : int, optional\n",
      "  Number of columns in the output. If None, defaults to `N`.\n",
      "k : int, optional\n",
      "  Index of the diagonal: 0 (the default) refers to the main diagonal,\n",
      "  a positive value refers to an upper diagonal, and a negative value\n",
      "  to a lower diagonal.\n",
      "dtype : data-type, optional\n",
      "  Data-type of the returned array.\n",
      "order : {'C', 'F'}, optional\n",
      "    Whether the output should be stored in row-major (C-style) or\n",
      "    column-major (Fortran-style) order in memory.\n",
      "\n",
      "    .. versionadded:: 1.14.0\n",
      "\n",
      "Returns\n",
      "-------\n",
      "I : ndarray of shape (N,M)\n",
      "  An array where all elements are equal to zero, except for the `k`-th\n",
      "  diagonal, whose values are equal to one.\n",
      "\n",
      "See Also\n",
      "--------\n",
      "identity : (almost) equivalent function\n",
      "diag : diagonal 2-D array from a 1-D array specified by the user.\n",
      "\n",
      "Examples\n",
      "--------\n",
      ">>> np.eye(2, dtype=int)\n",
      "array([[1, 0],\n",
      "       [0, 1]])\n",
      ">>> np.eye(3, k=1)\n",
      "array([[0.,  1.,  0.],\n",
      "       [0.,  0.,  1.],\n",
      "       [0.,  0.,  0.]])\n"
     ]
    }
   ],
   "source": [
    "#1.10 View documentation for 'np.eye'\n",
    "np.info(np.eye)"
   ]
  },
  {
   "cell_type": "code",
   "execution_count": 23,
   "metadata": {},
   "outputs": [
    {
     "data": {
      "text/plain": [
       "array([ 1.,  2.,  3.,  4.,  5.,  6.,  7.,  8.,  9., 10.])"
      ]
     },
     "execution_count": 23,
     "metadata": {},
     "output_type": "execute_result"
    }
   ],
   "source": [
    "#1.11 Appends values to the end of 'a'\n",
    "np.append(a, 10.0)"
   ]
  },
  {
   "cell_type": "code",
   "execution_count": 28,
   "metadata": {},
   "outputs": [
    {
     "data": {
      "text/plain": [
       "array([[1., 2., 3.],\n",
       "       [4., 5., 6.]])"
      ]
     },
     "execution_count": 28,
     "metadata": {},
     "output_type": "execute_result"
    }
   ],
   "source": [
    "#1.12 Deletes rows on index 2 of 'a'\n",
    "np.delete(a, 2, axis=0)"
   ]
  },
  {
   "cell_type": "markdown",
   "metadata": {
    "pycharm": {
     "name": "#%% md\n"
    }
   },
   "source": [
    "2 Сгенерировать OLAP-куб, где фиксируем продажи товаров в розничной сети по магазинам. <br/>\n",
    "Оси: <br/>\n",
    "    0: ID группы товаров <br/>\n",
    "    1: ID магазина <br/>\n",
    "    2: День месяца, в котором осуществляются продажи (предположим у нас в OLAP-кубе собраны продажи за месяц). <br/>\n",
    "\n",
    "Содержимое ячейки: продажи в тыс. рублей данной категории товаров в данном магазине в данный день. <br/>\n",
    "\n",
    "Рекомендуется сгенерировать статистически-правдопододные данные в ячейках.\n",
    "К примеру, будет странно, если продажи одной и той же группы товаров в соседние дни будут представлять из себя \"белый шум\". Пусть будет какой-то правдоподобное распределение на ваш вкус.\n",
    "Также продажи одних и тех же групп товаров в разных магазинах не могут отличаться в сотни и тысячи раз, максимум в разы.\n",
    "Подумайте как это обыграть используя различные функции генерации случайных чисел + \"смекалку\"."
   ]
  },
  {
   "cell_type": "code",
   "execution_count": 31,
   "metadata": {
    "pycharm": {
     "name": "#%%\n"
    }
   },
   "outputs": [],
   "source": [
    "id_item = np.arange(0, 100, 1)\n",
    "id_magazine = np.arange(0, 10, 1)\n",
    "date = np.arange(1, 28, 1) #Let it be February\n",
    "\n",
    "olap_cube = np.zeros([id_item.size, id_magazine.size, date.size])\n",
    "\n",
    "for item in range(id_item.size):\n",
    "    for magazine in range(id_magazine.size):\n",
    "        for days in range(date.size):\n",
    "            olap_cube[item, magazine, days] = np.random.randint(1, 100)"
   ]
  },
  {
   "cell_type": "code",
   "execution_count": 32,
   "metadata": {},
   "outputs": [
    {
     "data": {
      "text/plain": [
       "array([[[10., 45., 68., ..., 44., 31., 45.],\n",
       "        [75., 53., 66., ..., 51., 44., 94.],\n",
       "        [54., 29., 78., ..., 90., 77., 13.],\n",
       "        ...,\n",
       "        [10., 99., 69., ...,  9., 27., 29.],\n",
       "        [33., 45., 98., ..., 27., 19., 94.],\n",
       "        [91., 69., 41., ..., 58., 82., 19.]],\n",
       "\n",
       "       [[13., 99., 10., ..., 19., 33., 99.],\n",
       "        [11., 79., 41., ..., 17.,  2., 13.],\n",
       "        [ 2.,  3.,  6., ..., 34., 77., 31.],\n",
       "        ...,\n",
       "        [98., 55., 61., ..., 76., 53., 40.],\n",
       "        [72., 74., 93., ..., 26., 48., 83.],\n",
       "        [15., 91., 94., ..., 22., 40., 28.]],\n",
       "\n",
       "       [[ 6., 39., 92., ..., 18., 38., 17.],\n",
       "        [18., 94., 25., ..., 81., 61., 98.],\n",
       "        [90., 29., 73., ..., 55., 84., 24.],\n",
       "        ...,\n",
       "        [58., 87., 31., ..., 10., 29., 52.],\n",
       "        [ 3., 75., 33., ..., 60.,  9., 81.],\n",
       "        [ 3., 10., 61., ..., 82., 38., 92.]],\n",
       "\n",
       "       ...,\n",
       "\n",
       "       [[46.,  3., 90., ...,  2., 55., 29.],\n",
       "        [18., 97., 33., ..., 30., 79., 93.],\n",
       "        [41., 74.,  1., ..., 91., 18., 54.],\n",
       "        ...,\n",
       "        [27., 95., 32., ...,  1.,  6., 35.],\n",
       "        [20., 47., 61., ..., 96., 64., 13.],\n",
       "        [23., 66., 17., ...,  9., 35., 31.]],\n",
       "\n",
       "       [[ 6., 35., 76., ..., 25., 31., 51.],\n",
       "        [14., 89., 26., ..., 85., 15., 52.],\n",
       "        [23., 19., 50., ..., 52., 79., 89.],\n",
       "        ...,\n",
       "        [23., 35., 95., ..., 92.,  2.,  1.],\n",
       "        [97., 41., 26., ..., 99., 15., 68.],\n",
       "        [83., 72., 48., ..., 44., 65., 36.]],\n",
       "\n",
       "       [[56., 42., 64., ..., 43., 12., 40.],\n",
       "        [29., 71., 13., ..., 79., 13., 89.],\n",
       "        [26., 90., 12., ..., 86.,  3., 71.],\n",
       "        ...,\n",
       "        [71., 67., 59., ...,  2., 84., 22.],\n",
       "        [40.,  5., 63., ..., 80.,  5., 43.],\n",
       "        [ 7., 38., 45., ..., 90., 68., 49.]]])"
      ]
     },
     "execution_count": 32,
     "metadata": {},
     "output_type": "execute_result"
    }
   ],
   "source": [
    "olap_cube"
   ]
  },
  {
   "cell_type": "markdown",
   "metadata": {
    "pycharm": {
     "name": "#%% md\n"
    }
   },
   "source": [
    "3 Для получившегося OLAP-куба посчитать суммарные, средние, минимальные и максимальные продажи (на самом деле любые агрегатные функции можно использовать)зафиксировав значения по одной, двум или трём осям:\n",
    "\n",
    "Например взять какой-то определённый набор товаров и набор городов или диапазон дней и сагрегировать данные по всем ячейкам из зафиксированного набора.\n",
    "Пример: получить сумму, среднее, минимум и максимум по продажам 10-20 чисел месяца для товаров [1,3,4] по всем городам (или по конкретному набору городов).\n",
    "\n",
    "Попробуйте различные варианты индексации и различные варианты срезов, насколько хватит фантазии."
   ]
  },
  {
   "cell_type": "code",
   "execution_count": 52,
   "metadata": {
    "pycharm": {
     "name": "#%%\n"
    }
   },
   "outputs": [
    {
     "name": "stdout",
     "output_type": "stream",
     "text": [
      "Sum of sales of all products per month: 1347740.0 conventional units\n",
      "The sum of sales of all goods of store No.7 per month: 134350.0 conventional units\n",
      "Average monthly sales of store No.1: 50.1 conventional units\n"
     ]
    }
   ],
   "source": [
    "print('Sum of sales of all products per month:', np.sum(olap_cube[:,:,:]), 'conventional units')\n",
    "print('The sum of sales of all goods of store No.7 per month:', np.sum(olap_cube[:,7,:]), 'conventional units')\n",
    "print('Average monthly sales of store No.1: %.1f' %np.mean(olap_cube[:, 1, 1:28]), 'conventional units')"
   ]
  },
  {
   "cell_type": "markdown",
   "metadata": {
    "pycharm": {
     "name": "#%% md\n"
    }
   },
   "source": [
    "![olap-cube](http://www.olap.ru/basic/img/alpero2i2.gif)"
   ]
  },
  {
   "cell_type": "code",
   "execution_count": null,
   "metadata": {
    "pycharm": {
     "name": "#%%\n"
    }
   },
   "outputs": [],
   "source": []
  }
 ],
 "metadata": {
  "kernelspec": {
   "display_name": "Python 3",
   "language": "python",
   "name": "python3"
  },
  "language_info": {
   "codemirror_mode": {
    "name": "ipython",
    "version": 3
   },
   "file_extension": ".py",
   "mimetype": "text/x-python",
   "name": "python",
   "nbconvert_exporter": "python",
   "pygments_lexer": "ipython3",
   "version": "3.8.8"
  }
 },
 "nbformat": 4,
 "nbformat_minor": 1
}
